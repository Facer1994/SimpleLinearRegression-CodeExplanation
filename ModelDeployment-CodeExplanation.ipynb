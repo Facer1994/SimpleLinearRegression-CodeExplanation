{
 "cells": [
  {
   "cell_type": "code",
   "execution_count": 1,
   "id": "2e9d1dba-8d57-44b0-b437-50c8bde97741",
   "metadata": {},
   "outputs": [],
   "source": [
    "# Importin the pickle package for load the saved model\n",
    "import pickle"
   ]
  },
  {
   "cell_type": "code",
   "execution_count": 3,
   "id": "5a8a4da2-5947-4206-b2bb-7eb45aad65b9",
   "metadata": {},
   "outputs": [
    {
     "name": "stderr",
     "output_type": "stream",
     "text": [
      "C:\\Users\\jayar\\AppData\\Local\\Programs\\Python\\Python312\\Lib\\site-packages\\sklearn\\utils\\validation.py:2739: UserWarning: X does not have valid feature names, but LinearRegression was fitted with feature names\n",
      "  warnings.warn(\n"
     ]
    }
   ],
   "source": [
    "# Now load the saved model using load function of  pickle package and checking the predicted value using predict function by giving the appropriate value\n",
    "loaded_model=pickle.load(open(\"finalize_model_linear.sav\",'rb'))\n",
    "result= loaded_model.predict([[2]])"
   ]
  },
  {
   "cell_type": "code",
   "execution_count": 4,
   "id": "d0ff64b4-45d2-412f-b133-7ad373a3cb8c",
   "metadata": {},
   "outputs": [
    {
     "data": {
      "text/plain": [
       "array([[45497.91391358]])"
      ]
     },
     "execution_count": 4,
     "metadata": {},
     "output_type": "execute_result"
    }
   ],
   "source": [
    "# Now fetching the predicted value present in the result variable\n",
    "result"
   ]
  },
  {
   "cell_type": "code",
   "execution_count": null,
   "id": "9ef1b053-9523-4a50-b3ef-c294c5435171",
   "metadata": {},
   "outputs": [],
   "source": []
  }
 ],
 "metadata": {
  "kernelspec": {
   "display_name": "Python 3 (ipykernel)",
   "language": "python",
   "name": "python3"
  },
  "language_info": {
   "codemirror_mode": {
    "name": "ipython",
    "version": 3
   },
   "file_extension": ".py",
   "mimetype": "text/x-python",
   "name": "python",
   "nbconvert_exporter": "python",
   "pygments_lexer": "ipython3",
   "version": "3.12.5"
  }
 },
 "nbformat": 4,
 "nbformat_minor": 5
}
